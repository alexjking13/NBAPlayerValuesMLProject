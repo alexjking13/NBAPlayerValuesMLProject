{
  "nbformat": 4,
  "nbformat_minor": 0,
  "metadata": {
    "colab": {
      "provenance": []
    },
    "kernelspec": {
      "name": "python3",
      "display_name": "Python 3"
    },
    "language_info": {
      "name": "python"
    }
  },
  "cells": [
    {
      "cell_type": "code",
      "execution_count": null,
      "metadata": {
        "colab": {
          "resources": {
            "http://localhost:8080/nbextensions/google.colab/files.js": {
              "data": "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",
              "ok": true,
              "headers": [
                [
                  "content-type",
                  "application/javascript"
                ]
              ],
              "status": 200,
              "status_text": ""
            }
          },
          "base_uri": "https://localhost:8080/",
          "height": 177
        },
        "id": "mJiy6VqTXfsG",
        "outputId": "d12c6b97-1879-4142-b030-fe25404e7a58"
      },
      "outputs": [
        {
          "output_type": "display_data",
          "data": {
            "text/plain": [
              "<IPython.core.display.HTML object>"
            ],
            "text/html": [
              "\n",
              "     <input type=\"file\" id=\"files-bead1d8c-d0ad-4fc2-9aef-fcde78a032c4\" name=\"files[]\" multiple disabled\n",
              "        style=\"border:none\" />\n",
              "     <output id=\"result-bead1d8c-d0ad-4fc2-9aef-fcde78a032c4\">\n",
              "      Upload widget is only available when the cell has been executed in the\n",
              "      current browser session. Please rerun this cell to enable.\n",
              "      </output>\n",
              "      <script src=\"/nbextensions/google.colab/files.js\"></script> "
            ]
          },
          "metadata": {}
        },
        {
          "output_type": "stream",
          "name": "stdout",
          "text": [
            "Saving Player Totals.csv to Player Totals.csv\n",
            "Saving Player Award Shares.csv to Player Award Shares.csv\n",
            "Saving End of Season Teams.csv to End of Season Teams.csv\n",
            "Saving Advanced.csv to Advanced.csv\n"
          ]
        }
      ],
      "source": [
        "from google.colab import files\n",
        "import sys\n",
        "sys.path.insert(0, '../lib')  # noqa\n",
        "import numpy as np\n",
        "import pandas as pd\n",
        "#from sklearn.cross_validation import train_test_split\n",
        "from sklearn.metrics import mean_squared_error\n",
        "from sklearn.linear_model import LogisticRegression\n",
        "import pdb\n",
        "from sklearn.metrics import *\n",
        "%matplotlib inline\n",
        "import matplotlib.pyplot as plt\n",
        "from sklearn import preprocessing\n",
        "from sklearn.preprocessing import StandardScaler\n",
        "import itertools\n",
        "import csv\n",
        "import itertools\n",
        "import tensorflow as tf\n",
        "#import tensorflow_ranking as tfr\n",
        "import random\n",
        "random.seed(1)\n",
        "np.random.seed(1)\n",
        "\n",
        "#from lasagne import layers\n",
        "#from lasagne.updates import nesterov_momentum\n",
        "#from lasagne.nonlinearities import softmax\n",
        "#from nolearn.lasagne import NeuralNet\n",
        "#from greedy_order import *\n",
        "uploaded = files.upload()"
      ]
    },
    {
      "cell_type": "code",
      "source": [
        "import io\n",
        "import pandas as pd\n",
        "advanced = pd.read_csv(io.BytesIO(uploaded['Advanced.csv']))\n",
        "AllNBA = pd.read_csv(io.BytesIO(uploaded['End of Season Teams.csv']))\n",
        "player_totals = pd.read_csv(io.BytesIO(uploaded['Player Totals.csv']))\n",
        "AwardRace = pd.read_csv(io.BytesIO(uploaded['Player Award Shares.csv']))\n",
        "advanced = advanced.drop(advanced.index[range(25183,30405)])\n",
        "player_totals = player_totals.drop(player_totals.index[range(25183,30405)])\n",
        "\n",
        "advanced['seasonscore']=advanced.vorp+advanced.ws+advanced.bpm\n",
        "player_totals['seasonscore']=(player_totals.pts+player_totals.stl+player_totals.blk+player_totals.ast+player_totals.trb-player_totals.tov)/player_totals.g\n",
        "#for i in range (0,1000):\n",
        " # print(advanced.player[i], advanced.seasonscore[i],player_totals.seasonscore[i])\n",
        "#for i in range (0,100):\n",
        "#  if AllNBA.type[i]=='All-NBA':\n",
        "  #  print(AllNBA.season[i],AllNBA.player[i],AllNBA.team_rank[i])\n",
        "\n",
        "#for i in range(0,10000):\n",
        " # ranked_players[advanced.player[i]]=advanced.vorp[i]+advanced.ws[i]+advanced.bpm[i]\n",
        "sum = 0.0\n",
        "#12658 rows until 2001\n",
        "for i in range(0,25183): \n",
        "  \n",
        "  if advanced.seasonscore[i]>-100 and advanced.seasonscore[i]<200:\n",
        "    plt.plot(advanced.seasonscore[i], player_totals.seasonscore[i], 'ro') # ro = red circles\n",
        "    plt.xlabel('advanced')\n",
        "    plt.ylabel('traditional')\n",
        "    sum = sum + advanced.seasonscore[i] + player_totals.seasonscore[i]\n",
        "\n",
        "avg = sum/25183\n",
        "print(\"mean seasonscore for player: \",avg )\n",
        "plt.show()\n",
        "\n",
        "\n",
        "\n",
        "\n"
      ],
      "metadata": {
        "colab": {
          "base_uri": "https://localhost:8080/",
          "height": 296
        },
        "id": "olqvR0g15EyB",
        "outputId": "6c819ef5-d4af-448f-b868-944865cce482"
      },
      "execution_count": null,
      "outputs": [
        {
          "output_type": "stream",
          "name": "stdout",
          "text": [
            "mean seasonscore for player:  nan\n"
          ]
        },
        {
          "output_type": "display_data",
          "data": {
            "text/plain": [
              "<Figure size 432x288 with 1 Axes>"
            ],
            "image/png": "[encoded data removed]"
          },
          "metadata": {
            "needs_background": "light"
          }
        }
      ]
    },
    {
      "cell_type": "markdown",
      "source": [
        "Based on the graph above, the goal is to isolate the players in the top right of the graph. We also can say that any player that is below the average is not eligible for the award, it will eliminate the number of datapoints we have to cover. "
      ],
      "metadata": {
        "id": "WhYMMG0Dkxen"
      }
    },
    {
      "cell_type": "code",
      "source": [
        "from sklearn.linear_model import LinearRegression\n",
        "\n",
        "player_data = pd.DataFrame()\n",
        "#player_data['player']=advanced.player\n",
        "\n",
        "player_data['seasonscore']=advanced.seasonscore+player_totals.seasonscore\n",
        "#player_data=player_data[player_data['seasonscore']>=avg]#filtering out ineligible players\n",
        "player_data['games']=player_totals.g\n",
        "#player_data=player_data[player_data['games']>41]#filtering out ineligible players again, could affect 2012\n",
        "count = 0\n",
        "# player_data['year']=advanced.season\n",
        "# player_data['player']=advanced.player\n",
        "# player_data['award']=\"None\"\n",
        "player_data['ws']=advanced.ws\n",
        "player_data['bpm']=advanced.bpm\n",
        "player_data['vorp']=advanced.vorp\n",
        "player_data['pts'] = player_totals.pts/player_totals.g\n",
        "player_data['ast'] = player_totals.ast/player_totals.g\n",
        "player_data['trb'] = player_totals.trb/player_totals.g\n",
        "player_data['blk'] = player_totals.blk/player_totals.g\n",
        "player_data['stl'] = player_totals.stl/player_totals.g\n",
        "\n",
        "\n",
        "#player_data['ppg']=player_totals['pts']/player_total['g']\n",
        "awards_dict = {}\n",
        "\n",
        "# player_data['default_rank']=player_data.seasonscore.rank()\n",
        "# print(player_data.default_rank)\n",
        "# print(min(player_data.default_rank))\n",
        "# for i in player_data.index:\n",
        "#   if player_data.at[i,'seasonscore']>75:\n",
        "#     print(\"Name: \",player_data.at[i,'player'],\"score: \",player_data.at[i,'seasonscore'],player_data.at[i,'year'])\n",
        "print(player_data.dtypes)\n",
        "player_data = player_data[player_data['seasonscore']>=35]\n",
        "player_data = player_data[player_data['seasonscore']<=110]\n",
        "\n",
        "# print(player_data.nlargest(20,player_data.seasonscore))\n",
        "\n",
        "##rank method\n",
        "\n",
        "\n",
        "X = player_data.iloc[:,0].values.reshape(-1,1)\n",
        "y = player_data.iloc[:,1].values.reshape(-1,1)\n",
        "linear_regressor = LinearRegression()\n",
        "linear_regressor.fit(X,y)\n",
        "y_pred = linear_regressor.predict(X)\n",
        "plt.scatter(X,y)\n",
        "plt.plot(X,y_pred,color = 'green')\n",
        "plt.xlabel('season score')\n",
        "plt.ylabel('games played')\n",
        "plt.show\n",
        "print(player_data.index)\n",
        "# for i in range(0,12657):\n",
        "#   #awards_dict[player_data.at[i,'year']]={player_data.at[i,'player']:False}\n",
        "#   awards_dict[player_data.player[i]]=False\n",
        "# for i in range (0,12656):\n",
        "#     # awards_dict[advanced.loc[(pld[\"year\"])]]={advanced.player[i]:False}\n",
        "#   awards_dict[player_data.loc[2,i]=False\n",
        "\n",
        "# for i in AllNBA.index:\n",
        "#   if AllNBA.at[i,'type'] == \"All-NBA\":\n",
        "#     awards_dict[i.year][awards_dict[i]]=True\n",
        "# print(awards_dict[2018][\"Lebron James\"])"
      ],
      "metadata": {
        "colab": {
          "base_uri": "https://localhost:8080/",
          "height": 574
        },
        "id": "YfHsZ_6c2QFm",
        "outputId": "795b9ecc-a4e1-4808-e025-9f70e174d2b8"
      },
      "execution_count": null,
      "outputs": [
        {
          "output_type": "stream",
          "name": "stdout",
          "text": [
            "seasonscore    float64\n",
            "games          float64\n",
            "ws             float64\n",
            "bpm            float64\n",
            "vorp           float64\n",
            "pts            float64\n",
            "ast            float64\n",
            "trb            float64\n",
            "blk            float64\n",
            "stl            float64\n",
            "dtype: object\n",
            "Int64Index([   10,    29,    40,    53,    57,   108,   115,   117,   129,\n",
            "              134,\n",
            "            ...\n",
            "            24480, 24486, 24487, 24520, 24529, 24570, 24607, 24718, 24720,\n",
            "            24752],\n",
            "           dtype='int64', length=2404)\n"
          ]
        },
        {
          "output_type": "display_data",
          "data": {
            "text/plain": [
              "<Figure size 432x288 with 1 Axes>"
            ],
            "image/png": "[encoded data removed]"
          },
          "metadata": {
            "needs_background": "light"
          }
        }
      ]
    },
    {
      "cell_type": "code",
      "source": [
        "from sklearn.preprocessing import PolynomialFeatures\n",
        "pr = PolynomialFeatures(degree = 6)\n",
        "X_poly = pr.fit_transform(X)\n",
        "pr.fit(X_poly, y)\n",
        "lin_reg = LinearRegression()\n",
        "lin_reg.fit(X_poly, y)\n",
        "plt.scatter(X, y)\n",
        "plt.scatter(X, lin_reg.predict(pr.fit_transform(X)))\n",
        "plt.show()"
      ],
      "metadata": {
        "colab": {
          "base_uri": "https://localhost:8080/",
          "height": 265
        },
        "id": "1byzzhuzNZA4",
        "outputId": "bc8f3023-40f5-409f-fe5d-a0a8c6db7f85"
      },
      "execution_count": null,
      "outputs": [
        {
          "output_type": "display_data",
          "data": {
            "text/plain": [
              "<Figure size 432x288 with 1 Axes>"
            ],
            "image/png": "[encoded data removed]"
          },
          "metadata": {
            "needs_background": "light"
          }
        }
      ]
    },
    {
      "cell_type": "markdown",
      "source": [
        "As you can see in these linear and polynomial regressions, there is a great amount of error in these predictors. These datasets have such vast differences in the featurevalues between specific players. I tried to narrow it down for players that only had a well above average season, but each season can have variance that is very high as well."
      ],
      "metadata": {
        "id": "mXOM1SHvO2yA"
      }
    },
    {
      "cell_type": "code",
      "source": [
        "player_data['player'] = advanced.player\n",
        "player_data['year'] = advanced.season\n",
        "\n",
        "for i in player_data.index: \n",
        "  if player_data.at[i,'seasonscore']>78:\n",
        "    print(\"Name: \",player_data.at[i,'player'],\"score: \",player_data.at[i,'seasonscore'],player_data.at[i,'year'])\n",
        "\n",
        "# player_data =player_data.drop(labels = [\"player\",'year'],axis=1,inplace = False)\n"
      ],
      "metadata": {
        "colab": {
          "base_uri": "https://localhost:8080/"
        },
        "id": "eif04ZPU6HRi",
        "outputId": "1b8cab93-5f10-4bfb-d952-2799c695bcad"
      },
      "execution_count": null,
      "outputs": [
        {
          "output_type": "stream",
          "name": "stdout",
          "text": [
            "Name:  Nikola Jokić score:  78.19090909090909 2022\n",
            "Name:  Nikola Jokić score:  80.31666666666666 2021\n",
            "Name:  James Harden score:  83.58974358974359 2019\n",
            "Name:  Russell Westbrook score:  82.72222222222223 2017\n",
            "Name:  Stephen Curry score:  80.48987341772153 2016\n",
            "Name:  Kevin Durant score:  82.37037037037038 2014\n",
            "Name:  LeBron James score:  82.57105263157895 2013\n",
            "Name:  LeBron James score:  85.38947368421053 2010\n",
            "Name:  Chris Paul score:  78.54615384615386 2009\n",
            "Name:  LeBron James score:  88.42345679012345 2009\n",
            "Name:  LeBron James score:  80.5 2008\n",
            "Name:  LeBron James score:  78.90126582278481 2006\n",
            "Name:  Kevin Garnett score:  82.65853658536585 2004\n",
            "Name:  Tracy McGrady score:  79.82000000000001 2003\n",
            "Name:  Shaquille O'Neal score:  84.65949367088608 2000\n",
            "Name:  Bruce Bowen score:  98.4 1997\n",
            "Name:  David Robinson score:  78.0609756097561 1996\n",
            "Name:  Michael Jordan score:  82.29756097560976 1996\n",
            "Name:  David Robinson score:  78.78271604938271 1995\n",
            "Name:  David Robinson score:  90.425 1994\n",
            "Name:  Michael Jordan score:  84.31794871794871 1993\n",
            "Name:  Michael Jordan score:  79.8625 1992\n",
            "Name:  Michael Jordan score:  87.35609756097561 1991\n",
            "Name:  Michael Jordan score:  88.00731707317073 1990\n",
            "Name:  Michael Jordan score:  91.79135802469136 1989\n",
            "Name:  Michael Jordan score:  94.74878048780488 1988\n",
            "Name:  Michael Jordan score:  86.31219512195122 1987\n",
            "Name:  Larry Bird score:  78.7875 1985\n",
            "Name:  Julius Erving score:  84.67142857142858 1976\n",
            "Name:  Julius Erving score:  79.87380952380953 1975\n"
          ]
        }
      ]
    },
    {
      "cell_type": "code",
      "source": [
        "player_data['value']=player_data['vorp']*.81+player_data['pts']*.1+player_data['bpm']*.03+player_data['trb']*.03+player_data['ws']*.01+player_data['ast']*.01\n",
        "for i in player_data.index:\n",
        "  if player_data.at[i,'value']>11:\n",
        "    print(player_data.at[i,'player'],\"value rating: \",player_data.at[i,'value'],player_data.at[i,'year'])"
      ],
      "metadata": {
        "colab": {
          "base_uri": "https://localhost:8080/"
        },
        "id": "7LytFaggxGPP",
        "outputId": "937e93f7-f1bd-4a93-adcc-e73c45799737"
      },
      "execution_count": null,
      "outputs": [
        {
          "output_type": "stream",
          "name": "stdout",
          "text": [
            "James Harden value rating:  11.902179487179488 2019\n",
            "Russell Westbrook value rating:  11.57872839506173 2017\n",
            "Stephen Curry value rating:  11.46732911392405 2016\n",
            "Kevin Durant value rating:  11.751654320987653 2014\n",
            "LeBron James value rating:  11.555236842105264 2013\n",
            "LeBron James value rating:  12.157394736842107 2010\n",
            "Chris Paul value rating:  11.091871794871796 2009\n",
            "Dwyane Wade value rating:  11.486949367088606 2009\n",
            "LeBron James value rating:  13.300950617283954 2009\n",
            "LeBron James value rating:  11.725666666666669 2008\n",
            "LeBron James value rating:  11.463797468354432 2006\n",
            "Kevin Garnett value rating:  11.478756097560977 2004\n",
            "Tracy McGrady value rating:  11.468333333333334 2003\n",
            "Shaquille O'Neal value rating:  11.169303797468356 2000\n",
            "Michael Jordan value rating:  11.736390243902441 1996\n",
            "David Robinson value rating:  13.138 1994\n",
            "Michael Jordan value rating:  12.283333333333335 1993\n",
            "Michael Jordan value rating:  11.177750000000001 1992\n",
            "Michael Jordan value rating:  12.692585365853658 1991\n",
            "Michael Jordan value rating:  12.739317073170731 1990\n",
            "Michael Jordan value rating:  13.361345679012347 1989\n",
            "Michael Jordan value rating:  14.447975609756098 1988\n",
            "Michael Jordan value rating:  12.990829268292686 1987\n",
            "Julius Erving value rating:  12.149666666666668 1976\n"
          ]
        }
      ]
    },
    {
      "cell_type": "markdown",
      "source": [
        "This list above is a list of the best individual seasons since 2001. The players on here all won the mvp or finished in the top 3 in the award race. This metric alone is a good indicator of who should be favored as the \"best player\" and thus will be incorporated into the learning algorithms. \n",
        "\n",
        "A fun fact: Stephen Curry's 2015 MVP season he was nearly a unanimous choice, but has the lowest rating of any MVP on this list. "
      ],
      "metadata": {
        "id": "koNrqZR76hip"
      }
    },
    {
      "cell_type": "code",
      "source": [
        "from sklearn.model_selection import train_test_split\n",
        "from sklearn.preprocessing import StandardScaler\n",
        "from sklearn.neighbors import KNeighborsClassifier\n",
        "\n",
        "X = player_data.iloc[:,:-1]\n",
        "y = player_data.iloc[:,1]\n",
        "X_train,X_test,y_train,y_test = train_test_split(X,y,test_size = .20)\n",
        "scaler = StandardScaler()\n",
        "scaler.fit(X_train)\n",
        "\n",
        "X_train = scaler.transform(X_train)\n",
        "X_test = scaler.transform(X_test)\n",
        "\n",
        "clf = KNeighborsClassifier(n_neighbors = 5)\n",
        "clf.fit(X_train,y_train)\n",
        "y_pred = clf.predict(X_test)\n"
      ],
      "metadata": {
        "id": "kNtHf1DbQYJx"
      },
      "execution_count": null,
      "outputs": []
    },
    {
      "cell_type": "code",
      "source": [
        "from sklearn.metrics import classification_report, confusion_matrix\n",
        "print(confusion_matrix(y_test, y_pred))\n",
        "print(classification_report(y_test, y_pred))"
      ],
      "metadata": {
        "colab": {
          "base_uri": "https://localhost:8080/"
        },
        "id": "mpIKAPrmSG6K",
        "outputId": "bc184838-4d92-4914-d085-037951cd1bb2"
      },
      "execution_count": null,
      "outputs": [
        {
          "output_type": "stream",
          "name": "stdout",
          "text": [
            "[[0 0 0 ... 0 0 0]\n",
            " [1 0 0 ... 0 0 0]\n",
            " [0 0 0 ... 0 0 0]\n",
            " ...\n",
            " [0 0 0 ... 4 2 0]\n",
            " [0 0 0 ... 3 3 7]\n",
            " [0 0 0 ... 6 2 9]]\n",
            "              precision    recall  f1-score   support\n",
            "\n",
            "         1.0       0.00      0.00      0.00         0\n",
            "         3.0       0.00      0.00      0.00         1\n",
            "         5.0       0.00      0.00      0.00         1\n",
            "         7.0       0.33      1.00      0.50         1\n",
            "         9.0       0.00      0.00      0.00         1\n",
            "        15.0       0.00      0.00      0.00         1\n",
            "        17.0       0.00      0.00      0.00         1\n",
            "        19.0       0.00      0.00      0.00         0\n",
            "        20.0       0.00      0.00      0.00         1\n",
            "        25.0       0.00      0.00      0.00         0\n",
            "        27.0       0.00      0.00      0.00         1\n",
            "        29.0       0.00      0.00      0.00         0\n",
            "        31.0       0.00      0.00      0.00         1\n",
            "        35.0       0.33      1.00      0.50         1\n",
            "        36.0       0.00      0.00      0.00         1\n",
            "        37.0       0.00      0.00      0.00         1\n",
            "        38.0       0.00      0.00      0.00         1\n",
            "        39.0       0.00      0.00      0.00         0\n",
            "        40.0       0.00      0.00      0.00         1\n",
            "        43.0       0.00      0.00      0.00         1\n",
            "        44.0       0.00      0.00      0.00         2\n",
            "        45.0       0.00      0.00      0.00         1\n",
            "        46.0       0.00      0.00      0.00         1\n",
            "        47.0       0.00      0.00      0.00         2\n",
            "        48.0       0.00      0.00      0.00         1\n",
            "        49.0       0.00      0.00      0.00         0\n",
            "        50.0       0.00      0.00      0.00         0\n",
            "        51.0       0.00      0.00      0.00         4\n",
            "        52.0       0.00      0.00      0.00         2\n",
            "        53.0       0.00      0.00      0.00         5\n",
            "        54.0       0.00      0.00      0.00         4\n",
            "        55.0       0.00      0.00      0.00         3\n",
            "        56.0       0.00      0.00      0.00         3\n",
            "        57.0       0.00      0.00      0.00         3\n",
            "        58.0       0.33      0.25      0.29         4\n",
            "        59.0       0.00      0.00      0.00         3\n",
            "        60.0       0.00      0.00      0.00         3\n",
            "        61.0       0.00      0.00      0.00         4\n",
            "        62.0       0.25      0.14      0.18         7\n",
            "        63.0       0.00      0.00      0.00         4\n",
            "        64.0       0.00      0.00      0.00         1\n",
            "        65.0       0.00      0.00      0.00         5\n",
            "        66.0       0.00      0.00      0.00         7\n",
            "        67.0       0.00      0.00      0.00         2\n",
            "        68.0       0.00      0.00      0.00         4\n",
            "        69.0       0.08      0.25      0.12         4\n",
            "        70.0       0.00      0.00      0.00         4\n",
            "        71.0       0.14      0.20      0.17         5\n",
            "        72.0       0.00      0.00      0.00        11\n",
            "        73.0       0.00      0.00      0.00         6\n",
            "        74.0       0.17      0.12      0.14         8\n",
            "        75.0       0.00      0.00      0.00         5\n",
            "        76.0       0.00      0.00      0.00         7\n",
            "        77.0       0.09      0.12      0.11         8\n",
            "        78.0       0.00      0.00      0.00         8\n",
            "        79.0       0.50      0.08      0.14        12\n",
            "        80.0       0.27      0.20      0.23        20\n",
            "        81.0       0.33      0.12      0.18        24\n",
            "        82.0       0.38      0.50      0.43        18\n",
            "\n",
            "    accuracy                           0.11       230\n",
            "   macro avg       0.05      0.07      0.05       230\n",
            "weighted avg       0.14      0.11      0.11       230\n",
            "\n"
          ]
        },
        {
          "output_type": "stream",
          "name": "stderr",
          "text": [
            "/usr/local/lib/python3.7/dist-packages/sklearn/metrics/_classification.py:1318: UndefinedMetricWarning: Precision and F-score are ill-defined and being set to 0.0 in labels with no predicted samples. Use `zero_division` parameter to control this behavior.\n",
            "  _warn_prf(average, modifier, msg_start, len(result))\n",
            "/usr/local/lib/python3.7/dist-packages/sklearn/metrics/_classification.py:1318: UndefinedMetricWarning: Recall and F-score are ill-defined and being set to 0.0 in labels with no true samples. Use `zero_division` parameter to control this behavior.\n",
            "  _warn_prf(average, modifier, msg_start, len(result))\n",
            "/usr/local/lib/python3.7/dist-packages/sklearn/metrics/_classification.py:1318: UndefinedMetricWarning: Precision and F-score are ill-defined and being set to 0.0 in labels with no predicted samples. Use `zero_division` parameter to control this behavior.\n",
            "  _warn_prf(average, modifier, msg_start, len(result))\n",
            "/usr/local/lib/python3.7/dist-packages/sklearn/metrics/_classification.py:1318: UndefinedMetricWarning: Recall and F-score are ill-defined and being set to 0.0 in labels with no true samples. Use `zero_division` parameter to control this behavior.\n",
            "  _warn_prf(average, modifier, msg_start, len(result))\n",
            "/usr/local/lib/python3.7/dist-packages/sklearn/metrics/_classification.py:1318: UndefinedMetricWarning: Precision and F-score are ill-defined and being set to 0.0 in labels with no predicted samples. Use `zero_division` parameter to control this behavior.\n",
            "  _warn_prf(average, modifier, msg_start, len(result))\n",
            "/usr/local/lib/python3.7/dist-packages/sklearn/metrics/_classification.py:1318: UndefinedMetricWarning: Recall and F-score are ill-defined and being set to 0.0 in labels with no true samples. Use `zero_division` parameter to control this behavior.\n",
            "  _warn_prf(average, modifier, msg_start, len(result))\n"
          ]
        }
      ]
    },
    {
      "cell_type": "code",
      "source": [
        "from sklearn.model_selection import train_test_split\n",
        "backup_advanced = advanced\n",
        "advanced.drop(labels = [\"player\",\"pos\",\"lg\",\"tm\",\"seas_id\",\"player_id\"],axis=1,inplace = False)\n",
        "class PlayerWin:\n",
        "    def __init__(self, id):\n",
        "        self.id = id\n",
        "        self.positive = []\n",
        "        self.negative = []\n",
        "        \n",
        "    def add_positive(self, player):\n",
        "        self.positive.append(player)\n",
        "    \n",
        "    def add_negative(self, player):\n",
        "        self.negative.append(player)\n",
        "    \n",
        "    def get_positive(self):\n",
        "        return self.positive\n",
        "    \n",
        "    def get_negative(self):\n",
        "        return self.negative\n",
        "        \n",
        "\n",
        "\n",
        "\n",
        "def get_feature_columns_from(learning_data, pairwise=False):\n",
        "    if not pairwise:\n",
        "        return learning_data.columns.values\n",
        "    else:\n",
        "        f1 = [c + '_1' for c in learning_data.columns.values]\n",
        "        f2 = [c + '_2' for c in learning_data.columns.values]\n",
        "        f1.extend(f2)\n",
        "        return np.asarray(f1)\n",
        "\n",
        "\n",
        "\n",
        "def load_events_data(tag):\n",
        "    events_data = advanced\n",
        "    feature_columns =  advanced.columns\n",
        "\n",
        "    \n",
        "    return [events_data, feature_columns]\n",
        "\n",
        "def get_test_train_data(events_data, feature_columns):\n",
        "    X = events_data.loc[:, feature_columns].values.astype(str)\n",
        "    print('overall input shape: ' + str(X.shape))\n",
        "\n",
        "    y = events_data.loc[:,advanced.columns]\n",
        "    print('overall output shape: ' + str(y.shape))\n",
        "\n",
        "    X_train, X_test, y_train, y_test = train_test_split(X, y, test_size=0.2, random_state=42)\n",
        "    print('training input shape: ' + str(X_train.shape))\n",
        "    print('training output shape: ' + str(y_train.shape))\n",
        "\n",
        "    print('testing input shape: ' + str(X_test.shape))\n",
        "    print('testing output shape: ' + str(y_test.shape))\n",
        "    \n",
        "    return [X_train, X_test, y_train, y_test]\n",
        "\n",
        "# X = advanced['seasonscore'].array\n",
        "# y= player_totals['seasonscore'].array\n",
        "# X_train, X_test, y_train, y_test = train_test_split(X, y, test_size=0.33, random_state=42)\n",
        "\n",
        "\n",
        "def train_model(model, prediction_function, X_train, y_train, X_test, y_test):\n",
        "    model.fit(X_train, y_train)\n",
        "    \n",
        "    y_train_pred = prediction_function(model, X_train)\n",
        "    print('train precision: ' + str(precision_score(y_train, y_train_pred,average = 'weighted')))\n",
        "    print('train recall: ' + str(recall_score(y_train, y_train_pred,average = 'weighted')))\n",
        "    print('train accuracy: ' + str(accuracy_score(y_train, y_train_pred)))\n",
        "    y_test_pred = prediction_function(model, X_test)\n",
        "    print('test precision: ' + str(precision_score(y_test, y_test_pred,average = 'weighted')))\n",
        "    print('test recall: ' + str(recall_score(y_test, y_test_pred,average = 'weighted')))\n",
        "    print('test accuracy: ' + str(accuracy_score(y_test, y_test_pred)))\n",
        "    \n",
        "    return model\n",
        "\n",
        "\n",
        "def get_predicted_outcome(model, data):\n",
        "    return np.argmax(model.predict_proba(data), axis=1).astype(np.float32)\n",
        "def get_predicted_rank(model, data):\n",
        "    return model.predict_proba(data)[:, 1]\n",
        "\n",
        "\n",
        "# learning_data = build_learning_data_from(advanced)\n",
        "# events_data = EventsGenerator(learning_data, advanced['seasonscore']).run()\n",
        "# # save_events_data(events_data, learning_data, 'linear')\n",
        "# events_data, feature_columns = load_events_data('linear')\n",
        "# learning_data = build_learning_data_from(advanced)\n",
        "\n",
        "# X_train, X_test, y_train, y_test = get_test_train_data(events_data, feature_columns)\n",
        "\n",
        "\n",
        "\n",
        "#X_train = X_train.array\n",
        "#y_train=y_train.array\n",
        "# X_train=X_train.reshape(-1,1)\n",
        "# y_train=y_train.reshape(-1,1)\n",
        "#X_test = X_test.array\n",
        "#y_test=y_test.array\n",
        "# X_test.reshape(-1,1)\n",
        "# y_test.reshape(-1,1)\n",
        "X = player_data.iloc[:,:-1]\n",
        "y = player_data.iloc[:,1]\n",
        "X_train,X_test,y_train,y_test = train_test_split(X,y,test_size = .20)\n",
        "model = train_model(LogisticRegression(), get_predicted_outcome, X_train, y_train, X_test, y_test)\n",
        "\n",
        "\n",
        "\n"
      ],
      "metadata": {
        "colab": {
          "base_uri": "https://localhost:8080/"
        },
        "id": "1hEEvFnIQuEV",
        "outputId": "cdcb2104-2aaa-4630-c673-f99fba685e8f"
      },
      "execution_count": null,
      "outputs": [
        {
          "output_type": "stream",
          "name": "stdout",
          "text": [
            "train precision: 0.002785677961700442\n",
            "train recall: 0.008724100327153763\n",
            "train accuracy: 0.008724100327153763\n",
            "test precision: 0.012681159420289854\n",
            "test recall: 0.017391304347826087\n",
            "test accuracy: 0.017391304347826087\n"
          ]
        },
        {
          "output_type": "stream",
          "name": "stderr",
          "text": [
            "/usr/local/lib/python3.7/dist-packages/sklearn/linear_model/_logistic.py:818: ConvergenceWarning: lbfgs failed to converge (status=1):\n",
            "STOP: TOTAL NO. of ITERATIONS REACHED LIMIT.\n",
            "\n",
            "Increase the number of iterations (max_iter) or scale the data as shown in:\n",
            "    https://scikit-learn.org/stable/modules/preprocessing.html\n",
            "Please also refer to the documentation for alternative solver options:\n",
            "    https://scikit-learn.org/stable/modules/linear_model.html#logistic-regression\n",
            "  extra_warning_msg=_LOGISTIC_SOLVER_CONVERGENCE_MSG,\n",
            "/usr/local/lib/python3.7/dist-packages/sklearn/metrics/_classification.py:1318: UndefinedMetricWarning: Precision is ill-defined and being set to 0.0 in labels with no predicted samples. Use `zero_division` parameter to control this behavior.\n",
            "  _warn_prf(average, modifier, msg_start, len(result))\n",
            "/usr/local/lib/python3.7/dist-packages/sklearn/metrics/_classification.py:1318: UndefinedMetricWarning: Recall is ill-defined and being set to 0.0 in labels with no true samples. Use `zero_division` parameter to control this behavior.\n",
            "  _warn_prf(average, modifier, msg_start, len(result))\n",
            "/usr/local/lib/python3.7/dist-packages/sklearn/metrics/_classification.py:1318: UndefinedMetricWarning: Precision is ill-defined and being set to 0.0 in labels with no predicted samples. Use `zero_division` parameter to control this behavior.\n",
            "  _warn_prf(average, modifier, msg_start, len(result))\n",
            "/usr/local/lib/python3.7/dist-packages/sklearn/metrics/_classification.py:1318: UndefinedMetricWarning: Recall is ill-defined and being set to 0.0 in labels with no true samples. Use `zero_division` parameter to control this behavior.\n",
            "  _warn_prf(average, modifier, msg_start, len(result))\n"
          ]
        }
      ]
    },
    {
      "cell_type": "markdown",
      "source": [
        "These awards are proving to be much harder to predict, simply because of the way that voters have selected players in the past. For example, some players are selected based on their team's performance and their standing within that team. In many season's such as 2015, players like chris paul make All-NBA second team with pretty average stats but since his team is very good and he is the captain of the team he was awarded. Additionally, there are some players who fit multiple positions and this can hurt them in the voting. An example of this is the player Khris Middleton in the year 2020. He is listed as a forward, but also a guard. Russell Westbrook is listed solely at guard. Russell Westbrook had less total voted than Khris Middleton but was awarded the 3rd team because he had more votes at the guard position. This means that the most deserving players also may not get awarded based on the position a voter considers them to play. \n",
        "\n",
        "\n",
        "The datasets I have used do not contain the position the players are listed at for the awards, only the position they played the most minutes at that season. This can lead to some players not making it over others so I opted for an approach that simply suggests the best players regardless of position.\n",
        "\n",
        "\n",
        "\n",
        "With all of this being said, lets try one more algorithm to try and make accurate predictions. "
      ],
      "metadata": {
        "id": "0kHdl7l2nAm0"
      }
    },
    {
      "cell_type": "code",
      "source": [
        "#implement the random forest\n",
        "print(\"THe shape of our feature is:\", player_data.shape)\n",
        "# player_data['player']=advanced.player\n",
        "player_data.describe()\n",
        "\n"
      ],
      "metadata": {
        "colab": {
          "base_uri": "https://localhost:8080/",
          "height": 317
        },
        "id": "dG8l38uW82Ey",
        "outputId": "c4e9ef91-a5b8-44c8-d92a-c8877d716bf1"
      },
      "execution_count": null,
      "outputs": [
        {
          "output_type": "stream",
          "name": "stdout",
          "text": [
            "THe shape of our feature is: (1147, 10)\n"
          ]
        },
        {
          "output_type": "execute_result",
          "data": {
            "text/plain": [
              "       seasonscore        games           ws          bpm         vorp  \\\n",
              "count  1147.000000  1147.000000  1147.000000  1147.000000  1147.000000   \n",
              "mean     46.008634    67.795118     8.045336     3.884568     3.364167   \n",
              "std       9.992962    15.439542     3.166966     3.859351     1.693556   \n",
              "min      35.000000     1.000000     0.000000    -0.500000     0.000000   \n",
              "25%      38.377778    61.000000     6.000000     2.000000     2.300000   \n",
              "50%      43.172152    73.000000     7.800000     3.200000     3.000000   \n",
              "75%      50.551821    80.000000     9.800000     4.700000     4.100000   \n",
              "max      88.423457    85.000000    20.300000    55.700000    11.800000   \n",
              "\n",
              "               pts          ast          trb          blk          stl  \n",
              "count  1147.000000  1147.000000  1147.000000  1147.000000  1147.000000  \n",
              "mean     19.762902     4.346475     7.050744     0.818760     1.184312  \n",
              "std       4.796816     2.464839     2.984718     0.697156     0.466136  \n",
              "min       2.000000     0.000000     0.000000     0.000000     0.000000  \n",
              "25%      16.653091     2.415339     4.537144     0.305320     0.853659  \n",
              "50%      19.554054     3.804878     6.641026     0.560000     1.123288  \n",
              "75%      22.673105     5.883827     9.225176     1.165152     1.478261  \n",
              "max      36.128205    14.000000    15.987179     3.684932     2.885246  "
            ],
            "text/html": [
              "\n",
              "  <div id=\"df-800b9019-ace4-41bf-b3b8-bc4715b7a3af\">\n",
              "    <div class=\"colab-df-container\">\n",
              "      <div>\n",
              "<style scoped>\n",
              "    .dataframe tbody tr th:only-of-type {\n",
              "        vertical-align: middle;\n",
              "    }\n",
              "\n",
              "    .dataframe tbody tr th {\n",
              "        vertical-align: top;\n",
              "    }\n",
              "\n",
              "    .dataframe thead th {\n",
              "        text-align: right;\n",
              "    }\n",
              "</style>\n",
              "<table border=\"1\" class=\"dataframe\">\n",
              "  <thead>\n",
              "    <tr style=\"text-align: right;\">\n",
              "      <th></th>\n",
              "      <th>seasonscore</th>\n",
              "      <th>games</th>\n",
              "      <th>ws</th>\n",
              "      <th>bpm</th>\n",
              "      <th>vorp</th>\n",
              "      <th>pts</th>\n",
              "      <th>ast</th>\n",
              "      <th>trb</th>\n",
              "      <th>blk</th>\n",
              "      <th>stl</th>\n",
              "    </tr>\n",
              "  </thead>\n",
              "  <tbody>\n",
              "    <tr>\n",
              "      <th>count</th>\n",
              "      <td>1147.000000</td>\n",
              "      <td>1147.000000</td>\n",
              "      <td>1147.000000</td>\n",
              "      <td>1147.000000</td>\n",
              "      <td>1147.000000</td>\n",
              "      <td>1147.000000</td>\n",
              "      <td>1147.000000</td>\n",
              "      <td>1147.000000</td>\n",
              "      <td>1147.000000</td>\n",
              "      <td>1147.000000</td>\n",
              "    </tr>\n",
              "    <tr>\n",
              "      <th>mean</th>\n",
              "      <td>46.008634</td>\n",
              "      <td>67.795118</td>\n",
              "      <td>8.045336</td>\n",
              "      <td>3.884568</td>\n",
              "      <td>3.364167</td>\n",
              "      <td>19.762902</td>\n",
              "      <td>4.346475</td>\n",
              "      <td>7.050744</td>\n",
              "      <td>0.818760</td>\n",
              "      <td>1.184312</td>\n",
              "    </tr>\n",
              "    <tr>\n",
              "      <th>std</th>\n",
              "      <td>9.992962</td>\n",
              "      <td>15.439542</td>\n",
              "      <td>3.166966</td>\n",
              "      <td>3.859351</td>\n",
              "      <td>1.693556</td>\n",
              "      <td>4.796816</td>\n",
              "      <td>2.464839</td>\n",
              "      <td>2.984718</td>\n",
              "      <td>0.697156</td>\n",
              "      <td>0.466136</td>\n",
              "    </tr>\n",
              "    <tr>\n",
              "      <th>min</th>\n",
              "      <td>35.000000</td>\n",
              "      <td>1.000000</td>\n",
              "      <td>0.000000</td>\n",
              "      <td>-0.500000</td>\n",
              "      <td>0.000000</td>\n",
              "      <td>2.000000</td>\n",
              "      <td>0.000000</td>\n",
              "      <td>0.000000</td>\n",
              "      <td>0.000000</td>\n",
              "      <td>0.000000</td>\n",
              "    </tr>\n",
              "    <tr>\n",
              "      <th>25%</th>\n",
              "      <td>38.377778</td>\n",
              "      <td>61.000000</td>\n",
              "      <td>6.000000</td>\n",
              "      <td>2.000000</td>\n",
              "      <td>2.300000</td>\n",
              "      <td>16.653091</td>\n",
              "      <td>2.415339</td>\n",
              "      <td>4.537144</td>\n",
              "      <td>0.305320</td>\n",
              "      <td>0.853659</td>\n",
              "    </tr>\n",
              "    <tr>\n",
              "      <th>50%</th>\n",
              "      <td>43.172152</td>\n",
              "      <td>73.000000</td>\n",
              "      <td>7.800000</td>\n",
              "      <td>3.200000</td>\n",
              "      <td>3.000000</td>\n",
              "      <td>19.554054</td>\n",
              "      <td>3.804878</td>\n",
              "      <td>6.641026</td>\n",
              "      <td>0.560000</td>\n",
              "      <td>1.123288</td>\n",
              "    </tr>\n",
              "    <tr>\n",
              "      <th>75%</th>\n",
              "      <td>50.551821</td>\n",
              "      <td>80.000000</td>\n",
              "      <td>9.800000</td>\n",
              "      <td>4.700000</td>\n",
              "      <td>4.100000</td>\n",
              "      <td>22.673105</td>\n",
              "      <td>5.883827</td>\n",
              "      <td>9.225176</td>\n",
              "      <td>1.165152</td>\n",
              "      <td>1.478261</td>\n",
              "    </tr>\n",
              "    <tr>\n",
              "      <th>max</th>\n",
              "      <td>88.423457</td>\n",
              "      <td>85.000000</td>\n",
              "      <td>20.300000</td>\n",
              "      <td>55.700000</td>\n",
              "      <td>11.800000</td>\n",
              "      <td>36.128205</td>\n",
              "      <td>14.000000</td>\n",
              "      <td>15.987179</td>\n",
              "      <td>3.684932</td>\n",
              "      <td>2.885246</td>\n",
              "    </tr>\n",
              "  </tbody>\n",
              "</table>\n",
              "</div>\n",
              "      <button class=\"colab-df-convert\" onclick=\"convertToInteractive('df-800b9019-ace4-41bf-b3b8-bc4715b7a3af')\"\n",
              "              title=\"Convert this dataframe to an interactive table.\"\n",
              "              style=\"display:none;\">\n",
              "        \n",
              "  <svg xmlns=\"http://www.w3.org/2000/svg\" height=\"24px\"viewBox=\"0 0 24 24\"\n",
              "       width=\"24px\">\n",
              "    <path d=\"M0 0h24v24H0V0z\" fill=\"none\"/>\n",
              "    <path d=\"M18.56 5.44l.94 2.06.94-2.06 2.06-.94-2.06-.94-.94-2.06-.94 2.06-2.06.94zm-11 1L8.5 8.5l.94-2.06 2.06-.94-2.06-.94L8.5 2.5l-.94 2.06-2.06.94zm10 10l.94 2.06.94-2.06 2.06-.94-2.06-.94-.94-2.06-.94 2.06-2.06.94z\"/><path d=\"M17.41 7.96l-1.37-1.37c-.4-.4-.92-.59-1.43-.59-.52 0-1.04.2-1.43.59L10.3 9.45l-7.72 7.72c-.78.78-.78 2.05 0 2.83L4 21.41c.39.39.9.59 1.41.59.51 0 1.02-.2 1.41-.59l7.78-7.78 2.81-2.81c.8-.78.8-2.07 0-2.86zM5.41 20L4 18.59l7.72-7.72 1.47 1.35L5.41 20z\"/>\n",
              "  </svg>\n",
              "      </button>\n",
              "      \n",
              "  <style>\n",
              "    .colab-df-container {\n",
              "      display:flex;\n",
              "      flex-wrap:wrap;\n",
              "      gap: 12px;\n",
              "    }\n",
              "\n",
              "    .colab-df-convert {\n",
              "      background-color: #E8F0FE;\n",
              "      border: none;\n",
              "      border-radius: 50%;\n",
              "      cursor: pointer;\n",
              "      display: none;\n",
              "      fill: #1967D2;\n",
              "      height: 32px;\n",
              "      padding: 0 0 0 0;\n",
              "      width: 32px;\n",
              "    }\n",
              "\n",
              "    .colab-df-convert:hover {\n",
              "      background-color: #E2EBFA;\n",
              "      box-shadow: 0px 1px 2px rgba(60, 64, 67, 0.3), 0px 1px 3px 1px rgba(60, 64, 67, 0.15);\n",
              "      fill: #174EA6;\n",
              "    }\n",
              "\n",
              "    [theme=dark] .colab-df-convert {\n",
              "      background-color: #3B4455;\n",
              "      fill: #D2E3FC;\n",
              "    }\n",
              "\n",
              "    [theme=dark] .colab-df-convert:hover {\n",
              "      background-color: #434B5C;\n",
              "      box-shadow: 0px 1px 3px 1px rgba(0, 0, 0, 0.15);\n",
              "      filter: drop-shadow(0px 1px 2px rgba(0, 0, 0, 0.3));\n",
              "      fill: #FFFFFF;\n",
              "    }\n",
              "  </style>\n",
              "\n",
              "      <script>\n",
              "        const buttonEl =\n",
              "          document.querySelector('#df-800b9019-ace4-41bf-b3b8-bc4715b7a3af button.colab-df-convert');\n",
              "        buttonEl.style.display =\n",
              "          google.colab.kernel.accessAllowed ? 'block' : 'none';\n",
              "\n",
              "        async function convertToInteractive(key) {\n",
              "          const element = document.querySelector('#df-800b9019-ace4-41bf-b3b8-bc4715b7a3af');\n",
              "          const dataTable =\n",
              "            await google.colab.kernel.invokeFunction('convertToInteractive',\n",
              "                                                     [key], {});\n",
              "          if (!dataTable) return;\n",
              "\n",
              "          const docLinkHtml = 'Like what you see? Visit the ' +\n",
              "            '<a target=\"_blank\" href=https://colab.research.google.com/notebooks/data_table.ipynb>data table notebook</a>'\n",
              "            + ' to learn more about interactive tables.';\n",
              "          element.innerHTML = '';\n",
              "          dataTable['output_type'] = 'display_data';\n",
              "          await google.colab.output.renderOutput(dataTable, element);\n",
              "          const docLink = document.createElement('div');\n",
              "          docLink.innerHTML = docLinkHtml;\n",
              "          element.appendChild(docLink);\n",
              "        }\n",
              "      </script>\n",
              "    </div>\n",
              "  </div>\n",
              "  "
            ]
          },
          "metadata": {},
          "execution_count": 78
        }
      ]
    },
    {
      "cell_type": "code",
      "source": [
        "X = np.array(player_data['seasonscore'])\n",
        "player_data=player_data.drop(['seasonscore'],axis=1)\n",
        "feature_list = list(player_data.columns)\n",
        "player_data = np.array(player_data)\n",
        "train_features, test_features, train_labels, test_labels = train_test_split(player_data, X, test_size = 0.25, random_state = 42)\n",
        "print('Training Features Shape:', train_features.shape)\n",
        "print('Training Labels Shape:', train_labels.shape)\n",
        "print('Testing Features Shape:', test_features.shape)\n",
        "print('Testing Labels Shape:', test_labels.shape)\n"
      ],
      "metadata": {
        "colab": {
          "base_uri": "https://localhost:8080/"
        },
        "id": "PzVC_KlGyddH",
        "outputId": "a55978ab-1dba-43ff-9151-3207c85d51c5"
      },
      "execution_count": null,
      "outputs": [
        {
          "output_type": "stream",
          "name": "stdout",
          "text": [
            "Training Features Shape: (860, 9)\n",
            "Training Labels Shape: (860,)\n",
            "Testing Features Shape: (287, 9)\n",
            "Testing Labels Shape: (287,)\n"
          ]
        }
      ]
    },
    {
      "cell_type": "code",
      "source": [
        "baseline_preds = test_features[:, feature_list.index('bpm')+feature_list.index('ws')+feature_list.index('vorp')]\n",
        "baseline_errors = abs(baseline_preds - test_labels)\n",
        "print('Average baseline error: ', round(np.mean(baseline_errors), 2))\n"
      ],
      "metadata": {
        "colab": {
          "base_uri": "https://localhost:8080/"
        },
        "id": "HojJOOm5yoW9",
        "outputId": "6c673e92-80dc-4e52-b916-b91fdabec773"
      },
      "execution_count": null,
      "outputs": [
        {
          "output_type": "stream",
          "name": "stdout",
          "text": [
            "Average baseline error:  39.5\n"
          ]
        }
      ]
    },
    {
      "cell_type": "code",
      "source": [
        "from sklearn.ensemble import RandomForestRegressor\n",
        "rf = RandomForestRegressor(n_estimators = 1000,random_state = 42)\n",
        "rf.fit(train_features,train_labels)"
      ],
      "metadata": {
        "colab": {
          "base_uri": "https://localhost:8080/"
        },
        "id": "CSlAigcS1Vzl",
        "outputId": "27ea0c28-9f43-49c6-e7bf-e46e5d67a5bf"
      },
      "execution_count": null,
      "outputs": [
        {
          "output_type": "execute_result",
          "data": {
            "text/plain": [
              "RandomForestRegressor(n_estimators=1000, random_state=42)"
            ]
          },
          "metadata": {},
          "execution_count": 81
        }
      ]
    },
    {
      "cell_type": "code",
      "source": [
        "predictions = rf.predict(test_features)\n",
        "errors = abs(predictions-test_labels)\n",
        "print(\"MAE: \",round(np.mean(errors),2),'degrees')"
      ],
      "metadata": {
        "colab": {
          "base_uri": "https://localhost:8080/"
        },
        "id": "CK7bpXk91A6q",
        "outputId": "b7ef9be1-6e7a-4857-c4e3-42340b2fa83e"
      },
      "execution_count": null,
      "outputs": [
        {
          "output_type": "stream",
          "name": "stdout",
          "text": [
            "MAE:  1.52 degrees\n"
          ]
        }
      ]
    },
    {
      "cell_type": "code",
      "source": [
        "mape = 100 * (errors / test_labels)\n",
        "accuracy = 100 - np.mean(mape)\n",
        "print('Accuracy:', round(accuracy, 2), '%.')"
      ],
      "metadata": {
        "colab": {
          "base_uri": "https://localhost:8080/"
        },
        "id": "f2BnHM3J2H0Z",
        "outputId": "a1d70afa-b75c-49e7-c66b-867475282654"
      },
      "execution_count": null,
      "outputs": [
        {
          "output_type": "stream",
          "name": "stdout",
          "text": [
            "Accuracy: 96.83 %.\n"
          ]
        }
      ]
    },
    {
      "cell_type": "code",
      "source": [
        "from sklearn.tree import export_graphviz\n",
        "import pydot\n",
        "rf_small = RandomForestRegressor(n_estimators=10, max_depth = 3)\n",
        "rf_small.fit(train_features, train_labels)\n",
        "tree_small = rf_small.estimators_[5]\n",
        "#shortens the depth so it is easier to see each node\n",
        "export_graphviz(tree_small, out_file = 'small_tree.dot', feature_names = feature_list, rounded = True, precision = 1)\n",
        "(graph, ) = pydot.graph_from_dot_file('small_tree.dot')\n",
        "print(graph)"
      ],
      "metadata": {
        "colab": {
          "base_uri": "https://localhost:8080/"
        },
        "id": "-4vmp-UL2kOx",
        "outputId": "db269547-14bf-43ac-cbb3-ac8c50cdc6f8"
      },
      "execution_count": null,
      "outputs": [
        {
          "output_type": "stream",
          "name": "stdout",
          "text": [
            "digraph Tree {\n",
            "node [shape=box, style=\"rounded\", color=\"black\", fontname=\"helvetica\"];\n",
            "edge [fontname=\"helvetica\"];\n",
            "0 [label=\"vorp <= 4.9\\nsquared_error = 103.9\\nsamples = 543\\nvalue = 45.6\"];\n",
            "1 [label=\"vorp <= 2.5\\nsquared_error = 34.0\\nsamples = 457\\nvalue = 42.1\"];\n",
            "0 -> 1  [labeldistance=\"2.5\", labelangle=45, headlabel=\"True\"];\n",
            "2 [label=\"pts <= 23.0\\nsquared_error = 8.7\\nsamples = 203\\nvalue = 38.2\"];\n",
            "1 -> 2;\n",
            "3 [label=\"squared_error = 4.5\\nsamples = 176\\nvalue = 37.6\"];\n",
            "2 -> 3;\n",
            "4 [label=\"squared_error = 18.9\\nsamples = 27\\nvalue = 43.0\"];\n",
            "2 -> 4;\n",
            "5 [label=\"pts <= 21.7\\nsquared_error = 31.6\\nsamples = 254\\nvalue = 45.4\"];\n",
            "1 -> 5;\n",
            "6 [label=\"squared_error = 20.2\\nsamples = 187\\nvalue = 43.3\"];\n",
            "5 -> 6;\n",
            "7 [label=\"squared_error = 22.2\\nsamples = 67\\nvalue = 50.7\"];\n",
            "5 -> 7;\n",
            "8 [label=\"vorp <= 7.2\\nsquared_error = 70.9\\nsamples = 86\\nvalue = 63.5\"];\n",
            "0 -> 8  [labeldistance=\"2.5\", labelangle=\"-45\", headlabel=\"False\"];\n",
            "9 [label=\"vorp <= 5.2\\nsquared_error = 30.9\\nsamples = 66\\nvalue = 59.4\"];\n",
            "8 -> 9;\n",
            "10 [label=\"squared_error = 16.4\\nsamples = 23\\nvalue = 55.0\"];\n",
            "9 -> 10;\n",
            "11 [label=\"squared_error = 20.1\\nsamples = 43\\nvalue = 62.2\"];\n",
            "9 -> 11;\n",
            "12 [label=\"bpm <= 9.2\\nsquared_error = 15.1\\nsamples = 20\\nvalue = 74.4\"];\n",
            "8 -> 12;\n",
            "13 [label=\"squared_error = 7.8\\nsamples = 10\\nvalue = 71.8\"];\n",
            "12 -> 13;\n",
            "14 [label=\"squared_error = 7.1\\nsamples = 10\\nvalue = 77.3\"];\n",
            "12 -> 14;\n",
            "\"\\n\";\n",
            "}\n",
            "\n"
          ]
        }
      ]
    },
    {
      "cell_type": "code",
      "source": [
        "importances = list(rf.feature_importances_)\n",
        "feature_importances = [(feature, round(importance, 2)) for feature, importance in zip(feature_list, importances)]\n",
        "feature_importances = sorted(feature_importances, key = lambda x: x[1], reverse = True)\n",
        "[print('Stat: {:20} Importance: {}'.format(*pair)) for pair in feature_importances];"
      ],
      "metadata": {
        "colab": {
          "base_uri": "https://localhost:8080/"
        },
        "id": "aZZFVQTk4b4m",
        "outputId": "e36b7f17-777a-4f90-8831-ab1f803a7a6c"
      },
      "execution_count": null,
      "outputs": [
        {
          "output_type": "stream",
          "name": "stdout",
          "text": [
            "Stat: vorp                 Importance: 0.81\n",
            "Stat: pts                  Importance: 0.1\n",
            "Stat: bpm                  Importance: 0.03\n",
            "Stat: trb                  Importance: 0.03\n",
            "Stat: ws                   Importance: 0.01\n",
            "Stat: ast                  Importance: 0.01\n",
            "Stat: games                Importance: 0.0\n",
            "Stat: blk                  Importance: 0.0\n",
            "Stat: stl                  Importance: 0.0\n"
          ]
        }
      ]
    }
  ]
}